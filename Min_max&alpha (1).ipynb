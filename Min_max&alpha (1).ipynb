{
  "nbformat": 4,
  "nbformat_minor": 0,
  "metadata": {
    "colab": {
      "provenance": []
    },
    "kernelspec": {
      "name": "python3",
      "display_name": "Python 3"
    },
    "language_info": {
      "name": "python"
    }
  },
  "cells": [
    {
      "cell_type": "code",
      "source": [
        "class Node:\n",
        "    def __init__(self, value=None):\n",
        "        self.value = value\n",
        "        self.children = []\n",
        "\n",
        "def minimax(node, depth, maximizing_player):\n",
        "    if depth == 0 or not node.children:\n",
        "        return node.value\n",
        "\n",
        "    if maximizing_player:\n",
        "        max_eval = float('-inf')\n",
        "        for child in node.children:\n",
        "            eval = minimax(child, depth - 1, False)\n",
        "            max_eval = max(max_eval, eval)\n",
        "        return max_eval\n",
        "    else:\n",
        "        min_eval = float('inf')\n",
        "        for child in node.children:\n",
        "            eval = minimax(child, depth - 1, True)\n",
        "            min_eval = min(min_eval, eval)\n",
        "        return min_eval\n",
        "\n",
        "def alpha_beta_pruning(node, depth, alpha, beta, maximizing_player):\n",
        "    if depth == 0 or not node.children:\n",
        "        return node.value\n",
        "\n",
        "    if maximizing_player:\n",
        "        max_eval = float('-inf')\n",
        "        for child in node.children:\n",
        "            eval = alpha_beta_pruning(child, depth - 1, alpha, beta, False)\n",
        "            max_eval = max(max_eval, eval)\n",
        "            alpha = max(alpha, eval)\n",
        "            if beta <= alpha:\n",
        "                break\n",
        "        return max_eval\n",
        "    else:\n",
        "        min_eval = float('inf')\n",
        "        for child in node.children:\n",
        "            eval = alpha_beta_pruning(child, depth - 1, alpha, beta, True)\n",
        "            min_eval = min(min_eval, eval)\n",
        "            beta = min(beta, eval)\n",
        "            if beta <= alpha:\n",
        "                break\n",
        "        return min_eval\n",
        "\n",
        "# Example usage:\n",
        "# Create a simple tree\n",
        "root = Node()\n",
        "root.children = [Node(3), Node(5), Node(2)]\n",
        "root.children[0].children = [Node(9), Node(1), Node(8)]\n",
        "root.children[1].children = [Node(4), Node(6)]\n",
        "root.children[2].children = [Node(7), Node(10)]\n",
        "\n",
        "# Perform Minimax\n",
        "minimax_result = minimax(root, depth=3, maximizing_player=True)\n",
        "print(\"Minimax Result:\", minimax_result)\n",
        "\n",
        "# Perform Alpha-Beta Pruning\n",
        "alpha_beta_result = alpha_beta_pruning(root, depth=3, alpha=float('-inf'), beta=float('inf'), maximizing_player=True)\n",
        "print(\"Alpha-Beta Pruning Result:\", alpha_beta_result)\n"
      ],
      "metadata": {
        "colab": {
          "base_uri": "https://localhost:8080/"
        },
        "id": "3lnKleRsNda3",
        "outputId": "9fbd8719-e0e0-4fbc-df0a-29c2d1eb0ac1"
      },
      "execution_count": 6,
      "outputs": [
        {
          "output_type": "stream",
          "name": "stdout",
          "text": [
            "Minimax Result: 7\n",
            "Alpha-Beta Pruning Result: 7\n"
          ]
        }
      ]
    }
  ]
}